{
 "cells": [
  {
   "cell_type": "markdown",
   "id": "288da5af",
   "metadata": {},
   "source": [
    "https://youtu.be/u--UVvH-LIQ"
   ]
  },
  {
   "cell_type": "markdown",
   "id": "48c243e3",
   "metadata": {},
   "source": [
    "# Выбираем пакет данных для обучения"
   ]
  },
  {
   "cell_type": "code",
   "execution_count": 1,
   "id": "1421ed55",
   "metadata": {},
   "outputs": [
    {
     "name": "stderr",
     "output_type": "stream",
     "text": [
      "c:\\Users\\user\\.conda\\envs\\hf\\lib\\site-packages\\tqdm\\auto.py:21: TqdmWarning: IProgress not found. Please update jupyter and ipywidgets. See https://ipywidgets.readthedocs.io/en/stable/user_install.html\n",
      "  from .autonotebook import tqdm as notebook_tqdm\n"
     ]
    },
    {
     "data": {
      "text/plain": [
       "DatasetDict({\n",
       "    train: Dataset({\n",
       "        features: ['text', 'label'],\n",
       "        num_rows: 16000\n",
       "    })\n",
       "    validation: Dataset({\n",
       "        features: ['text', 'label'],\n",
       "        num_rows: 2000\n",
       "    })\n",
       "    test: Dataset({\n",
       "        features: ['text', 'label'],\n",
       "        num_rows: 2000\n",
       "    })\n",
       "})"
      ]
     },
     "execution_count": 1,
     "metadata": {},
     "output_type": "execute_result"
    }
   ],
   "source": [
    "from datasets import load_dataset\n",
    "\n",
    "emotion_dataset = load_dataset(\"emotion\")\n",
    "emotion_dataset"
   ]
  },
  {
   "cell_type": "code",
   "execution_count": 2,
   "id": "cd3e5863",
   "metadata": {},
   "outputs": [
    {
     "data": {
      "text/plain": [
       "{'text': 'i didnt feel humiliated', 'label': 0}"
      ]
     },
     "execution_count": 2,
     "metadata": {},
     "output_type": "execute_result"
    }
   ],
   "source": [
    "emotion_dataset[\"train\"][0]"
   ]
  },
  {
   "cell_type": "code",
   "execution_count": 3,
   "id": "f5ee11f5",
   "metadata": {},
   "outputs": [
    {
     "data": {
      "text/html": [
       "<div>\n",
       "<style scoped>\n",
       "    .dataframe tbody tr th:only-of-type {\n",
       "        vertical-align: middle;\n",
       "    }\n",
       "\n",
       "    .dataframe tbody tr th {\n",
       "        vertical-align: top;\n",
       "    }\n",
       "\n",
       "    .dataframe thead th {\n",
       "        text-align: right;\n",
       "    }\n",
       "</style>\n",
       "<table border=\"1\" class=\"dataframe\">\n",
       "  <thead>\n",
       "    <tr style=\"text-align: right;\">\n",
       "      <th></th>\n",
       "      <th>text</th>\n",
       "      <th>label</th>\n",
       "    </tr>\n",
       "  </thead>\n",
       "  <tbody>\n",
       "    <tr>\n",
       "      <th>0</th>\n",
       "      <td>i didnt feel humiliated</td>\n",
       "      <td>0</td>\n",
       "    </tr>\n",
       "    <tr>\n",
       "      <th>1</th>\n",
       "      <td>i can go from feeling so hopeless to so damned...</td>\n",
       "      <td>0</td>\n",
       "    </tr>\n",
       "    <tr>\n",
       "      <th>2</th>\n",
       "      <td>im grabbing a minute to post i feel greedy wrong</td>\n",
       "      <td>3</td>\n",
       "    </tr>\n",
       "    <tr>\n",
       "      <th>3</th>\n",
       "      <td>i am ever feeling nostalgic about the fireplac...</td>\n",
       "      <td>2</td>\n",
       "    </tr>\n",
       "    <tr>\n",
       "      <th>4</th>\n",
       "      <td>i am feeling grouchy</td>\n",
       "      <td>3</td>\n",
       "    </tr>\n",
       "  </tbody>\n",
       "</table>\n",
       "</div>"
      ],
      "text/plain": [
       "                                                text  label\n",
       "0                            i didnt feel humiliated      0\n",
       "1  i can go from feeling so hopeless to so damned...      0\n",
       "2   im grabbing a minute to post i feel greedy wrong      3\n",
       "3  i am ever feeling nostalgic about the fireplac...      2\n",
       "4                               i am feeling grouchy      3"
      ]
     },
     "execution_count": 3,
     "metadata": {},
     "output_type": "execute_result"
    }
   ],
   "source": [
    "\n",
    "# Для удобной визуализации можно применить pandas\n",
    "emotion_dataframe = emotion_dataset[\"train\"].to_pandas()\n",
    "emotion_dataframe.head()"
   ]
  },
  {
   "cell_type": "code",
   "execution_count": 4,
   "id": "fd007845",
   "metadata": {},
   "outputs": [
    {
     "data": {
      "text/plain": [
       "{'text': Value('string'),\n",
       " 'label': ClassLabel(names=['sadness', 'joy', 'love', 'anger', 'fear', 'surprise'])}"
      ]
     },
     "execution_count": 4,
     "metadata": {},
     "output_type": "execute_result"
    }
   ],
   "source": [
    "# Чтобы разобраться что обозначают эти числа можно посмотреть характеристики набора данных\n",
    "features = emotion_dataset[\"train\"].features\n",
    "features"
   ]
  },
  {
   "cell_type": "code",
   "execution_count": 5,
   "id": "b152c71c",
   "metadata": {},
   "outputs": [
    {
     "data": {
      "text/plain": [
       "'sadness'"
      ]
     },
     "execution_count": 5,
     "metadata": {},
     "output_type": "execute_result"
    }
   ],
   "source": [
    "# можно посмотреть какие соотношения между цифрами и значениями\n",
    "features[\"label\"].int2str(0)"
   ]
  },
  {
   "cell_type": "code",
   "execution_count": 6,
   "id": "b220f0fc",
   "metadata": {},
   "outputs": [
    {
     "data": {
      "text/plain": [
       "{0: 'sadness', 1: 'joy', 2: 'love', 3: 'anger', 4: 'fear', 5: 'surprise'}"
      ]
     },
     "execution_count": 6,
     "metadata": {},
     "output_type": "execute_result"
    }
   ],
   "source": [
    "id2label = {idx:features[\"label\"].int2str(idx) for idx in range(6)}\n",
    "id2label"
   ]
  },
  {
   "cell_type": "code",
   "execution_count": 7,
   "id": "3f7efa03",
   "metadata": {},
   "outputs": [
    {
     "data": {
      "text/plain": [
       "{'sadness': 0, 'joy': 1, 'love': 2, 'anger': 3, 'fear': 4, 'surprise': 5}"
      ]
     },
     "execution_count": 7,
     "metadata": {},
     "output_type": "execute_result"
    }
   ],
   "source": [
    "# label2id = {features[\"label\"].int2str(idx):idx for idx in range(6)}\n",
    "# или\n",
    "label2id = {v:k for k,v in id2label.items()}\n",
    "label2id"
   ]
  },
  {
   "cell_type": "code",
   "execution_count": 8,
   "id": "d95d41ea",
   "metadata": {},
   "outputs": [
    {
     "data": {
      "text/plain": [
       "{'sadness': 0, 'joy': 1, 'love': 2, 'anger': 3, 'fear': 4, 'surprise': 5}"
      ]
     },
     "execution_count": 8,
     "metadata": {},
     "output_type": "execute_result"
    }
   ],
   "source": [
    "\n",
    "label2id"
   ]
  },
  {
   "cell_type": "code",
   "execution_count": 9,
   "id": "178da365",
   "metadata": {},
   "outputs": [
    {
     "data": {
      "text/plain": [
       "label\n",
       "0    0.291625\n",
       "1    0.335125\n",
       "2    0.081500\n",
       "3    0.134937\n",
       "4    0.121063\n",
       "5    0.035750\n",
       "Name: proportion, dtype: float64"
      ]
     },
     "execution_count": 9,
     "metadata": {},
     "output_type": "execute_result"
    }
   ],
   "source": [
    "# Проверить сбалансированность набора данных\n",
    "# Например тут 30% данных помечены как 0(sadnees) а редких мало, и соответственно производительность \n",
    "\n",
    "emotion_dataframe[\"label\"].value_counts(normalize=True).sort_index()"
   ]
  },
  {
   "cell_type": "markdown",
   "id": "7b74b5bf",
   "metadata": {},
   "source": [
    "# Токенизация данных\n",
    "BETR это популярная модель, но существуют более легкие и быстрые модели с такой же точностью и лучше использовать их\n",
    "https://youtu.be/u--UVvH-LIQ?t=563"
   ]
  },
  {
   "cell_type": "code",
   "execution_count": 10,
   "id": "6c9fc0ae",
   "metadata": {},
   "outputs": [],
   "source": [
    "from transformers import AutoTokenizer\n",
    "\n",
    "modelcheckpoint = \"microsoft/miniLM-L12-H384-uncased\"\n",
    "tokenizer = AutoTokenizer.from_pretrained(modelcheckpoint)"
   ]
  },
  {
   "cell_type": "code",
   "execution_count": 11,
   "id": "7cf92534",
   "metadata": {},
   "outputs": [
    {
     "name": "stdout",
     "output_type": "stream",
     "text": [
      "['i didnt feel humiliated']\n",
      "{'input_ids': [[101, 1045, 2134, 2102, 2514, 26608, 102]], 'token_type_ids': [[0, 0, 0, 0, 0, 0, 0]], 'attention_mask': [[1, 1, 1, 1, 1, 1, 1]]}\n"
     ]
    }
   ],
   "source": [
    "# Пример: данные до токенизации\n",
    "test1 = emotion_dataset[\"train\"][\"text\"][:1]\n",
    "print(test1)\n",
    "# Пример: токенизированные данные\n",
    "test2 = tokenizer(emotion_dataset[\"train\"][\"text\"][:1])\n",
    "print(test2)"
   ]
  },
  {
   "cell_type": "code",
   "execution_count": 12,
   "id": "e88947f2",
   "metadata": {},
   "outputs": [
    {
     "data": {
      "text/plain": [
       "{'text': 'i didnt feel humiliated', 'label': 0}"
      ]
     },
     "execution_count": 12,
     "metadata": {},
     "output_type": "execute_result"
    }
   ],
   "source": [
    "# До обработки\n",
    "emotion_dataset['train'][0]"
   ]
  },
  {
   "cell_type": "code",
   "execution_count": 13,
   "id": "c6e3d282",
   "metadata": {},
   "outputs": [
    {
     "data": {
      "text/plain": [
       "DatasetDict({\n",
       "    train: Dataset({\n",
       "        features: ['text', 'label', 'input_ids', 'token_type_ids', 'attention_mask'],\n",
       "        num_rows: 16000\n",
       "    })\n",
       "    validation: Dataset({\n",
       "        features: ['text', 'label', 'input_ids', 'token_type_ids', 'attention_mask'],\n",
       "        num_rows: 2000\n",
       "    })\n",
       "    test: Dataset({\n",
       "        features: ['text', 'label', 'input_ids', 'token_type_ids', 'attention_mask'],\n",
       "        num_rows: 2000\n",
       "    })\n",
       "})"
      ]
     },
     "execution_count": 13,
     "metadata": {},
     "output_type": "execute_result"
    }
   ],
   "source": [
    "# Хотим применить токенизатор ко всем примерам в наборе данных \n",
    "# А в библиотеке наборов данных есть метод \"map\" который позволяет просто передть функцию и применить ее ко всем примерам\n",
    "def tokenizer_text(examples):\n",
    "    return tokenizer(examples[\"text\"], truncation=True, max_length=512) # обрезаем длинные примеры потому что у каждой модели есть ограничение по длинне которое она может обработать\n",
    "\n",
    "emotion_dataset = emotion_dataset.map(tokenizer_text, batched=True)\n",
    "emotion_dataset"
   ]
  },
  {
   "cell_type": "code",
   "execution_count": 14,
   "id": "79f7cbf1",
   "metadata": {},
   "outputs": [
    {
     "data": {
      "text/plain": [
       "{'text': 'i didnt feel humiliated',\n",
       " 'label': 0,\n",
       " 'input_ids': [101, 1045, 2134, 2102, 2514, 26608, 102],\n",
       " 'token_type_ids': [0, 0, 0, 0, 0, 0, 0],\n",
       " 'attention_mask': [1, 1, 1, 1, 1, 1, 1]}"
      ]
     },
     "execution_count": 14,
     "metadata": {},
     "output_type": "execute_result"
    }
   ],
   "source": [
    "# После обработки\n",
    "emotion_dataset['train'][0]"
   ]
  },
  {
   "cell_type": "markdown",
   "id": "4488ed65",
   "metadata": {},
   "source": [
    "# Решение проблемы дисбаланса классов данных для обучения"
   ]
  },
  {
   "cell_type": "code",
   "execution_count": 15,
   "id": "7a935569",
   "metadata": {},
   "outputs": [
    {
     "data": {
      "text/plain": [
       "label\n",
       "0    4666\n",
       "1    5362\n",
       "2    1304\n",
       "3    2159\n",
       "4    1937\n",
       "5     572\n",
       "Name: count, dtype: int64"
      ]
     },
     "execution_count": 15,
     "metadata": {},
     "output_type": "execute_result"
    }
   ],
   "source": [
    "# Введем коэфциенты обратно пропорциональные процентному количеству отдельных классов в наборе\n",
    "emotion_dataframe[\"label\"].value_counts().sort_index()"
   ]
  },
  {
   "cell_type": "code",
   "execution_count": 16,
   "id": "c9e6b1af",
   "metadata": {},
   "outputs": [
    {
     "data": {
      "text/plain": [
       "16000"
      ]
     },
     "execution_count": 16,
     "metadata": {},
     "output_type": "execute_result"
    }
   ],
   "source": [
    "len(emotion_dataframe)"
   ]
  },
  {
   "cell_type": "code",
   "execution_count": 17,
   "id": "c4c2bc89",
   "metadata": {},
   "outputs": [
    {
     "data": {
      "text/plain": [
       "array([0.708375 , 0.664875 , 0.9185   , 0.8650625, 0.8789375, 0.96425  ])"
      ]
     },
     "execution_count": 17,
     "metadata": {},
     "output_type": "execute_result"
    }
   ],
   "source": [
    "calss_weights = (1 - (emotion_dataframe[\"label\"].value_counts().sort_index()/len(emotion_dataframe))).values\n",
    "calss_weights"
   ]
  },
  {
   "cell_type": "code",
   "execution_count": 18,
   "id": "1f944d33",
   "metadata": {},
   "outputs": [
    {
     "data": {
      "text/plain": [
       "tensor([0.7084, 0.6649, 0.9185, 0.8651, 0.8789, 0.9643], device='cuda:0')"
      ]
     },
     "execution_count": 18,
     "metadata": {},
     "output_type": "execute_result"
    }
   ],
   "source": [
    "# Так как тренажер использует PyTorch все веса должны быть тензорами\n",
    "import torch\n",
    "\n",
    "class_weights = torch.from_numpy(calss_weights).float().to(\"cuda\")\n",
    "class_weights"
   ]
  },
  {
   "cell_type": "code",
   "execution_count": 19,
   "id": "45fcbf43",
   "metadata": {},
   "outputs": [
    {
     "data": {
      "text/plain": [
       "DatasetDict({\n",
       "    train: Dataset({\n",
       "        features: ['text', 'labels', 'input_ids', 'token_type_ids', 'attention_mask'],\n",
       "        num_rows: 16000\n",
       "    })\n",
       "    validation: Dataset({\n",
       "        features: ['text', 'labels', 'input_ids', 'token_type_ids', 'attention_mask'],\n",
       "        num_rows: 2000\n",
       "    })\n",
       "    test: Dataset({\n",
       "        features: ['text', 'labels', 'input_ids', 'token_type_ids', 'attention_mask'],\n",
       "        num_rows: 2000\n",
       "    })\n",
       "})"
      ]
     },
     "execution_count": 19,
     "metadata": {},
     "output_type": "execute_result"
    }
   ],
   "source": [
    "# https://huggingface.co/docs/transformers/main_classes/trainer\n",
    "# Если посмотреть в документации то можно увидеть что модель может вычислить потери если указан аргумент \"labels\"\n",
    "# Поэтому нужно просто переименовать столбец меток \"label\" в \"labes\" и все будет готово\n",
    "\n",
    "emotion_dataset = emotion_dataset.rename_column(\"label\", \"labels\")\n",
    "emotion_dataset"
   ]
  },
  {
   "cell_type": "code",
   "execution_count": 20,
   "id": "f90eb958",
   "metadata": {},
   "outputs": [],
   "source": [
    "# emotion_dataset = emotion_dataset.rename_column(\"input_ids\", \"labels_ids\")\n",
    "# emotion_dataset"
   ]
  },
  {
   "cell_type": "markdown",
   "id": "5d4090b4",
   "metadata": {},
   "source": [
    "Теперь есть все необходимое для создания обучения"
   ]
  },
  {
   "cell_type": "markdown",
   "id": "eac417cf",
   "metadata": {},
   "source": [
    "# Создание тренажера"
   ]
  },
  {
   "cell_type": "code",
   "execution_count": 21,
   "id": "493f5807",
   "metadata": {},
   "outputs": [],
   "source": [
    "# Создание тренажера\n",
    "\n",
    "from torch import nn\n",
    "import torch\n",
    "from transformers import Trainer\n",
    "\n",
    "# https://youtu.be/u--UVvH-LIQ?t=798\n",
    "# Создаем пользовательский тренажер чтобы можно было вычислять потреи по своему усмотрению\n",
    "class WeightLossTrainer(Trainer):\n",
    "    def compute_loss(self, model, inputs, num_items_in_batch=None, return_outputs=False):\n",
    "        # Передача данных в модель\n",
    "        outputs = model(**inputs)\n",
    "        logits = outputs.get(\"logits\")\n",
    "        # Извлечение меток\n",
    "        labels = inputs.get(\"labels\")\n",
    "        # Определение функции потерь с весами классов которые мы определили сами выше \n",
    "        # (изменение данной функции предсмотренно в документации https://huggingface.co/docs/transformers/main_classes/trainer)\n",
    "        loss_func = nn.CrossEntropyLoss(weight=class_weights)\n",
    "        # вычисление потерь\n",
    "        loss = loss_func(logits, labels)\n",
    "        return (loss, outputs) if return_outputs else loss\n",
    "\n",
    "# TODO: В этом надо доплнительно разобраться. Нет понимания"
   ]
  },
  {
   "cell_type": "markdown",
   "id": "cceafca3",
   "metadata": {},
   "source": [
    "# Сбор всех данных воедино"
   ]
  },
  {
   "cell_type": "code",
   "execution_count": 22,
   "id": "c0dbfc6f",
   "metadata": {},
   "outputs": [
    {
     "name": "stderr",
     "output_type": "stream",
     "text": [
      "Some weights of BertForSequenceClassification were not initialized from the model checkpoint at microsoft/miniLM-L12-H384-uncased and are newly initialized: ['classifier.bias', 'classifier.weight']\n",
      "You should probably TRAIN this model on a down-stream task to be able to use it for predictions and inference.\n"
     ]
    }
   ],
   "source": [
    "# Сбор всех данных воедино\n",
    "\n",
    "# Создаем экземпляр модели\n",
    "from transformers import AutoModelForSequenceClassification # рассматриваем как задачу классификации последовательностей\n",
    "\n",
    "model = AutoModelForSequenceClassification.from_pretrained(modelcheckpoint, num_labels=6, id2label=id2label, label2id=label2id)"
   ]
  },
  {
   "cell_type": "code",
   "execution_count": 23,
   "id": "7e2ef444",
   "metadata": {},
   "outputs": [],
   "source": [
    "# Создаем метрики\n",
    "from sklearn.metrics import f1_score # f1_score - это среднее значение точности и полноты, это лучший способ учесть дисбаланс данных\n",
    "\n",
    "def compute_metrics(pred):\n",
    "    labels = pred.label_ids\n",
    "    preds = pred.predictions.argmax(-1)\n",
    "    f1 = f1_score(labels, preds, average=\"weighted\")\n",
    "    return{\"f1\":f1}"
   ]
  },
  {
   "cell_type": "code",
   "execution_count": 24,
   "id": "4fba8e22",
   "metadata": {},
   "outputs": [],
   "source": [
    "# Последнее что нужно указать это гиперпараметры\n",
    "from transformers import TrainingArguments\n",
    "\n",
    "batch_size = 32\n",
    "# регистрировать потерю обучения в каждой эпохе\n",
    "logging_steps = len(emotion_dataset[\"train\"]) // batch_size\n",
    "output_dir = \"local_models/minilm_emotion\"\n",
    "training_args = TrainingArguments(\n",
    "    output_dir=output_dir,\n",
    "    num_train_epochs=3, # Количество эпох обучения\n",
    "    learning_rate=2e-5, # Скорость обучения\n",
    "    per_device_train_batch_size=batch_size,\n",
    "    per_device_eval_batch_size=batch_size,\n",
    "    weight_decay=0.01,\n",
    "    logging_steps=logging_steps,\n",
    "    fp16=True, # Использовать смешанную точность, чтобы ускорить процесс\n",
    "    push_to_hub=True,\n",
    "    # Запуск оценки после каждой эпохи ***\n",
    "    eval_strategy=\"epoch\",\n",
    "    save_strategy=\"epoch\",\n",
    "    load_best_model_at_end=True,\n",
    "    metric_for_best_model=\"f1\",\n",
    ")"
   ]
  },
  {
   "cell_type": "code",
   "execution_count": 25,
   "id": "8e8da68a",
   "metadata": {},
   "outputs": [
    {
     "name": "stderr",
     "output_type": "stream",
     "text": [
      "C:\\Users\\user\\AppData\\Local\\Temp\\ipykernel_34264\\4095014986.py:2: FutureWarning: `tokenizer` is deprecated and will be removed in version 5.0.0 for `WeightLossTrainer.__init__`. Use `processing_class` instead.\n",
      "  trainer = WeightLossTrainer(\n"
     ]
    }
   ],
   "source": [
    "# Загружаем свой собственный тренер\n",
    "trainer = WeightLossTrainer(\n",
    "    model=model,\n",
    "    args=training_args,\n",
    "    compute_metrics=compute_metrics,\n",
    "    train_dataset=emotion_dataset[\"train\"],\n",
    "    eval_dataset=emotion_dataset[\"validation\"],\n",
    "    tokenizer=tokenizer\n",
    ")"
   ]
  },
  {
   "cell_type": "markdown",
   "id": "10aa2563",
   "metadata": {},
   "source": [
    "# Запуск обучения\n",
    "https://youtu.be/u--UVvH-LIQ?t=1068"
   ]
  },
  {
   "cell_type": "code",
   "execution_count": 26,
   "id": "e6d1345b",
   "metadata": {},
   "outputs": [
    {
     "data": {
      "text/html": [
       "\n",
       "    <div>\n",
       "      \n",
       "      <progress value='1500' max='1500' style='width:300px; height:20px; vertical-align: middle;'></progress>\n",
       "      [1500/1500 01:05, Epoch 3/3]\n",
       "    </div>\n",
       "    <table border=\"1\" class=\"dataframe\">\n",
       "  <thead>\n",
       " <tr style=\"text-align: left;\">\n",
       "      <th>Epoch</th>\n",
       "      <th>Training Loss</th>\n",
       "      <th>Validation Loss</th>\n",
       "      <th>F1</th>\n",
       "    </tr>\n",
       "  </thead>\n",
       "  <tbody>\n",
       "    <tr>\n",
       "      <td>1</td>\n",
       "      <td>1.290800</td>\n",
       "      <td>0.925761</td>\n",
       "      <td>0.646143</td>\n",
       "    </tr>\n",
       "    <tr>\n",
       "      <td>2</td>\n",
       "      <td>0.779100</td>\n",
       "      <td>0.594750</td>\n",
       "      <td>0.862778</td>\n",
       "    </tr>\n",
       "    <tr>\n",
       "      <td>3</td>\n",
       "      <td>0.550000</td>\n",
       "      <td>0.500048</td>\n",
       "      <td>0.894129</td>\n",
       "    </tr>\n",
       "  </tbody>\n",
       "</table><p>"
      ],
      "text/plain": [
       "<IPython.core.display.HTML object>"
      ]
     },
     "metadata": {},
     "output_type": "display_data"
    },
    {
     "data": {
      "text/plain": [
       "TrainOutput(global_step=1500, training_loss=0.87331494140625, metrics={'train_runtime': 65.8693, 'train_samples_per_second': 728.716, 'train_steps_per_second': 22.772, 'total_flos': 322136666909568.0, 'train_loss': 0.87331494140625, 'epoch': 3.0})"
      ]
     },
     "execution_count": 26,
     "metadata": {},
     "output_type": "execute_result"
    }
   ],
   "source": [
    "trainer.train()"
   ]
  },
  {
   "cell_type": "markdown",
   "id": "1a3b1256",
   "metadata": {},
   "source": [
    "# Использование обученной модели"
   ]
  },
  {
   "cell_type": "code",
   "execution_count": 27,
   "id": "8f5af7b2",
   "metadata": {},
   "outputs": [
    {
     "name": "stderr",
     "output_type": "stream",
     "text": [
      "Device set to use cuda:0\n"
     ]
    },
    {
     "data": {
      "text/plain": [
       "<transformers.pipelines.text_classification.TextClassificationPipeline at 0x2091d7e1f00>"
      ]
     },
     "execution_count": 27,
     "metadata": {},
     "output_type": "execute_result"
    }
   ],
   "source": [
    "from transformers import pipeline\n",
    "\n",
    "modelcheckpoint_new = \"local_models/minilm_emotion\"\n",
    "pipe = pipeline(\"text-classification\", model=modelcheckpoint_new)\n",
    "pipe"
   ]
  },
  {
   "cell_type": "code",
   "execution_count": 28,
   "id": "4be05945",
   "metadata": {},
   "outputs": [
    {
     "data": {
      "text/plain": [
       "[{'label': 'anger', 'score': 0.5640459656715393}]"
      ]
     },
     "execution_count": 28,
     "metadata": {},
     "output_type": "execute_result"
    }
   ],
   "source": [
    "pipe(\"I am wont to hit his car\")"
   ]
  }
 ],
 "metadata": {
  "kernelspec": {
   "display_name": "hf",
   "language": "python",
   "name": "python3"
  },
  "language_info": {
   "codemirror_mode": {
    "name": "ipython",
    "version": 3
   },
   "file_extension": ".py",
   "mimetype": "text/x-python",
   "name": "python",
   "nbconvert_exporter": "python",
   "pygments_lexer": "ipython3",
   "version": "3.10.18"
  }
 },
 "nbformat": 4,
 "nbformat_minor": 5
}
